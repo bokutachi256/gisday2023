{
  "cells": [
    {
      "cell_type": "markdown",
      "metadata": {
        "colab_type": "text",
        "id": "view-in-github"
      },
      "source": [
        "<a href=\"https://colab.research.google.com/github/bokutachi256/gisday2023/blob/main/GISDay2023_%E3%83%97%E3%83%AD%E3%82%B0%E3%83%A9%E3%83%A0.ipynb\" target=\"_parent\"><img src=\"https://colab.research.google.com/assets/colab-badge.svg\" alt=\"Open In Colab\"/></a>"
      ]
    },
    {
      "cell_type": "markdown",
      "metadata": {
        "id": "L0zpnWXjarFm"
      },
      "source": [
        "# マルチエージェントシミュレーションを使った人の動きのシミュレーション"
      ]
    },
    {
      "cell_type": "markdown",
      "metadata": {
        "id": "95Jb7yyWarFo"
      },
      "source": [
        "* 東京都立大学 都市環境学部 地理環境学科 中山大地\n",
        "* 2023年11月18日 東京都立大学 南大沢キャンパス\n",
        "* このテキストのURL [https://github.com/bokutachi256/gisday2023](https://github.com/bokutachi256/gisday2023)\n",
        "* Google ColaboratoryのURL [https://colab.research.google.com/](https://colab.research.google.com/)"
      ]
    },
    {
      "cell_type": "markdown",
      "metadata": {
        "id": "vMERykp3hfWO"
      },
      "source": [
        "# 使い方"
      ]
    },
    {
      "cell_type": "markdown",
      "metadata": {
        "id": "GEo6CvBWZ2hf"
      },
      "source": [
        "## データの準備"
      ]
    },
    {
      "cell_type": "markdown",
      "metadata": {
        "id": "opOmMhOYZ2hf"
      },
      "source": [
        "1. Googleドライブに`gisday2023`フォルダを作成する．\n",
        "2. `data`フォルダに加重コスト距離のラスタデータファイル（例：`CostDis.tif`），スタート地点のGeoJSONファイル（`start_points.geojson`），ゴール地点のGeoJSONファイル（`goal_points.geojson`），道路のラスタデータファイル（`road.tif`）を格納する．\n",
        "   1. すべてのデータは同じ座標系であること．\n",
        "   2. ラスタデータはすべて同じサイズであること．\n",
        "   3. 道路（壁）ファイルは通れる部分が1以上，通れない部分が0のラスタファイル\n",
        "   4. 加重コスト距離ファイルは複数でも可\n",
        "   5. スタート地点のGeoJSONに必須の属性\n",
        "      * `cost_ID`: どの加重コスト距離に従うかを示す属性\n",
        "   6. ゴール地点のGeoJSONに必須の属性は特になし．"
      ]
    },
    {
      "cell_type": "markdown",
      "metadata": {
        "id": "Koe5L8Dr_yTw"
      },
      "source": [
        "## 計算結果をQGISで図化する"
      ]
    },
    {
      "cell_type": "markdown",
      "metadata": {
        "id": "c7FwC1rG_51b"
      },
      "source": [
        "* gpkgの読み込み\n",
        "  1. GoogleDriveからgpkgファイルをダウンロードする．\n",
        "  1. gpkgファイルをQGISで読み込む．\n",
        "* 時系列プロパティの設定\n",
        "  1. gpkgレイヤーのプロパティを表示し，左側のボタンから「時系列」を選ぶ．\n",
        "  1. 「動的時系列コントロール」にチェックを入れる．\n",
        "  1. 「設定」を「Date/Time型の単一フィールド」，「上限」を「始点を含み終点を除く（デフォルト）」，「フィールド」を「Time」，「継続時間」を5秒にする．「地物を累積表示」にはチェックを入れない．\n",
        "* 時系列表示の設定\n",
        "  1. 「ビュー」メニューの「パネル」から「時系列コントローラーパネル」を表示する．\n",
        "  1. 「時系列コントローラーパネル」の真ん中の時計ボタン（固定範囲の時系列ナビ）を押す．\n",
        "  1. 時系列の範囲が表示されるので，範囲の右端にあるくるくる矢印ボタン（「全範囲に設定」）を押し，範囲を最初から最後までに設定する．\n",
        "  1. 「時系列コントローラーパネル」の右端の再生ボタンを押し，スライダーを動かしてアニメ表示する．"
      ]
    },
    {
      "cell_type": "markdown",
      "metadata": {
        "id": "_iCja9MOarFr"
      },
      "source": [
        "# データファイルの指定"
      ]
    },
    {
      "cell_type": "code",
      "execution_count": null,
      "metadata": {
        "id": "Dzx2YlYIbJDQ"
      },
      "outputs": [],
      "source": [
        "# 必要なデータファイルの指定\n",
        "\n",
        "# コスト距離ファイルの指定\n",
        "# コスト距離はファイル名のリストで複数指定できる\n",
        "cost_files = ['CostDis.tif']\n",
        "\n",
        "# 道路ラスタファイルの指定\n",
        "# 通れる部分が1以上，通れない部分が0のラスタファイル\n",
        "road_file = 'road.tif'\n",
        "\n",
        "# スタート地点のgeojsonファイルの指定\n",
        "start_geojson = 'start_points500.geojson'\n",
        "\n",
        "# ゴール地点のgeojsonファイルの指定\n",
        "goal_geojson = 'goal_points.geojson'"
      ]
    },
    {
      "cell_type": "markdown",
      "metadata": {
        "id": "f9EyGnXHDiW7"
      },
      "source": [
        "# ライブラリのインポート"
      ]
    },
    {
      "cell_type": "markdown",
      "metadata": {
        "id": "E-8ipgqWarFs"
      },
      "source": [
        "Google Colaboratoryを使う場合とローカルPCで実行する場合を自動判別して\n",
        "必要なライブラリをインストールする．"
      ]
    },
    {
      "cell_type": "code",
      "execution_count": null,
      "metadata": {
        "id": "YmEtFjnOGQGL"
      },
      "outputs": [],
      "source": [
        "import sys\n",
        "\n",
        "# Google Colaboratoryを使用している場合は以下の必須ライブラリをインストールする\n",
        "# mesa: マルチエージェントシミュレーションライブラリ\n",
        "# geopandas: 地理情報データを扱うライブラリ\n",
        "if 'google.colab' in sys.modules:\n",
        "  %pip install mesa\n",
        "  %pip install geopandas\n",
        "  %matplotlib notebook\n",
        "  # google.coalb: GoogleDrive内のファイルにアクセスするために必要\n",
        "  from google.colab import drive\n",
        "\n",
        "# 必要なライブラリの読み込み\n",
        "# numpy: 配列を扱うライブラリ\n",
        "# tqdm: プログレスバーのライブラリ\n",
        "# random: 乱数を扱うライブラリ\n",
        "import numpy as np\n",
        "from tqdm import tqdm\n",
        "import random\n",
        "\n",
        "# matplotlob: グラフ表示を行うライブラリ\n",
        "# matplotlib..cm: matplotlibでカラーマップを扱うライブラリ\n",
        "# matplotlib animation: アニメーション作成ライブラリ\n",
        "# Ipython.display: アニメーション表示用ライブラリ\n",
        "import matplotlib.pyplot as plt\n",
        "import matplotlib.cm as cm\n",
        "from matplotlib import animation, rc\n",
        "from matplotlib.animation import ArtistAnimation\n",
        "#from IPython.display import HTML\n",
        "\n",
        "# datetime: 時刻日付型のライブラリ\n",
        "from datetime import date, time, datetime, timedelta\n",
        "\n",
        "# mesa: マルチエージェントシミュレーションを行うライブラリ\n",
        "from mesa import Agent, Model\n",
        "\n",
        "# MultiGrid: 同一グリッドに複数エージェントを配置できるスペース\n",
        "# SingleGrid: 同一グリッドに単一エージェントのみを配置できるスペース\n",
        "from mesa.space import MultiGrid, SingleGrid\n",
        "\n",
        "# RandomActivation: エージェントを動かす順番をランダムに決定\n",
        "# SimultaneousActivation: エージェントを同時に動かす\n",
        "from mesa.time import RandomActivation, SimultaneousActivation\n",
        "\n",
        "# DataCollector: データコレクター\n",
        "from mesa.datacollection import DataCollector\n",
        "\n",
        "# osgeo: GeoTiffを読み込むために必要\n",
        "from osgeo import gdal, gdalconst, gdal_array, osr\n",
        "\n",
        "# geopandas: GeojJSONの読み込みとエージェントの座標計算に必要\n",
        "import geopandas as gpd\n"
      ]
    },
    {
      "cell_type": "markdown",
      "metadata": {
        "id": "h6tgTPpPDlyI"
      },
      "source": [
        "# データ用フォルダのマウント"
      ]
    },
    {
      "cell_type": "markdown",
      "metadata": {
        "id": "hIvT1rpYZ2hg"
      },
      "source": [
        "Google Colaboratryで実行する場合とローカルPCで実行する場合を自動判別し，\n",
        "それぞれのデータフォルダをマウントする．"
      ]
    },
    {
      "cell_type": "code",
      "execution_count": null,
      "metadata": {
        "id": "FBjDD2YMnNSu"
      },
      "outputs": [],
      "source": [
        "# Google Colaboratoryを使う場合はGoogle Driveをマウントする\n",
        "if 'google.colab' in sys.modules:\n",
        "  drive.mount('/content/drive')\n",
        "  # GoogleDrive内の\"マイドライブ/gisday2023/\"フォルダにアクセスできるような設定を行う．\n",
        "  # フォルダ名の最後に`/`を必ず追加すること．\n",
        "  base_dir = \"/content/drive/My Drive/gisday2023/\"\n",
        "else:\n",
        "  # ローカルPCを使う場合は./data/フォルダをマウントする\n",
        "  # フォルダ名の最後に`/`を必ず追加すること．\n",
        "  base_dir = \"./data/\""
      ]
    },
    {
      "cell_type": "markdown",
      "metadata": {
        "id": "fydqMR5X2vA6",
        "tags": []
      },
      "source": [
        "# 加重コスト距離・壁・スタート地点・ゴール地点の読み込み"
      ]
    },
    {
      "cell_type": "code",
      "execution_count": null,
      "metadata": {
        "id": "V3-tn5laZ2hh"
      },
      "outputs": [],
      "source": [
        "# 加重コスト距離の読み込み\n",
        "# cost_filesで指定されたGeoTIFFファイルを順次読み込み，リストcostに格納する．\n",
        "cost = list()\n",
        "for i in range(len(cost_files)):\n",
        "  cost_file = gdal.Open(base_dir + cost_files[i])\n",
        "  cost.append(np.where(cost_file.ReadAsArray() > 0, cost_file.ReadAsArray(), 0))\n",
        "\n",
        "# GeoTIFF画像の左上座標（ULX, ULY），ピクセルサイズ(Ysize, Xsize）を取得する．\n",
        "ULX, Xsize, dum1, ULY, dum2, Ysize = cost_file.GetGeoTransform()\n",
        "\n",
        "# 道路（壁）の読み込み\n",
        "wall_file = gdal.Open(base_dir + road_file)\n",
        "wall = np.where(wall_file.ReadAsArray() >= 1, 0, 1)\n",
        "\n",
        "# スタート地点のgeojsonの読み込み\n",
        "# ラスタデータの周辺部にあるスタート地点は範囲外になる可能性があるために削除する\n",
        "# テスト用のデータはsampleメソッドをつかって200地点くらいをサンプリングした方がよいかも\n",
        "start_location = gpd.read_file(base_dir + start_geojson).explode(index_parts = True)\\\n",
        "  .cx[ULX+Xsize: ULX + ((cost_file.RasterXSize - 1) * Xsize), ULY + ((cost_file.RasterYSize + 1) * Ysize): ULY + Ysize]\n",
        "\n",
        "# ゴール地点のgeojsonの読み込み\n",
        "goal_location = gpd.read_file(base_dir + goal_geojson).explode(index_parts = True)\n"
      ]
    },
    {
      "cell_type": "markdown",
      "metadata": {
        "id": "Npjx4dKoW5dK",
        "tags": []
      },
      "source": [
        "# スペースとエージェントを定義する"
      ]
    },
    {
      "cell_type": "code",
      "execution_count": null,
      "metadata": {
        "id": "pOieqfORC1N4"
      },
      "outputs": [],
      "source": [
        "class EvacModel(Model):\n",
        "  # スペースのコンストラクタ\n",
        "  # width: スペースの幅（グリッド数）\n",
        "  # height: スペースの高さ（グリッド数）\n",
        "  # start_loc: 避難者エージェントのスタート地点（GeoDataframe型式）\n",
        "  # goal_loc: ゴール地点のGeoDataDFrame\n",
        "  # wall: 道路データ\n",
        "  # cost_data: コストラスタを格納したリスト\n",
        "  def __init__(self, width, height, start_loc, goal_loc, wall, cost_data):\n",
        "\n",
        "    # スペースをMultiGridにする\n",
        "    # MultiGridは同一座標に複数エージェントを配置できるスペース\n",
        "    self.grid = MultiGrid(width, height, torus = False)\n",
        "\n",
        "    # 壁の座標を保持するプロパティの宣言\n",
        "    self.wall = wall\n",
        "    self.wall_x = list()\n",
        "    self.wall_y = list()\n",
        "\n",
        "    # スタート地点の座標を保持するプロパティの宣言\n",
        "    self.start_x = list()\n",
        "    self.start_y = list()\n",
        "\n",
        "    # ゴール地点の座標を保持するプロパティの宣言\n",
        "    self.goal_x = list()\n",
        "    self.goal_y = list()\n",
        "\n",
        "    # 加重コストに関するプロパティの宣言\n",
        "    self.cost = cost_data\n",
        "    self.cost_x = list()\n",
        "    self.cost_y = list()\n",
        "\n",
        "    # 避難完了者数を0で初期化\n",
        "    self.evac_comp = 0\n",
        "\n",
        "    # EvacAgentの実行順序をランダムにする\n",
        "    # EvacAgentの実行順序を同時にしたい場合にはSimultaneousActivationをオンにする\n",
        "    self.schedule = RandomActivation(self)\n",
        "    # self.schedule = SimultaneousActivation(self)\n",
        "\n",
        "    # スタート地点の人口を取得する\n",
        "    #start_pop = start_location['pop'].to_list()\n",
        "\n",
        "    # スタート地点のエージェントが参照する加重コスト距離の番号を取得する\n",
        "    eva_no = start_location['cost_ID'].to_list()\n",
        "\n",
        "    # 高齢者かどうかを判別する情報を取得する\n",
        "    # senior = start_location['senior'].to_list()\n",
        "    # start_move = [1 if a == 0 else 50 for a in senior]\n",
        "\n",
        "    # スタート地点の座標を取得する\n",
        "    start_x = ((start_location.geometry.x - ULX) // Xsize).to_list()\n",
        "    start_y = ((start_location.geometry.y - ULY) // Ysize).to_list()\n",
        "\n",
        "    # 避難者エージェントの数を取得する\n",
        "    self.num_agents = len(start_x)\n",
        "\n",
        "    # 避難者エージェントの配置\n",
        "    for i in range(self.num_agents):\n",
        "      a = EvacAgent(i, self)\n",
        "      # 避難者エージェントの人口プロパティをセット\n",
        "      # a.pop = start_pop[i]\n",
        "      a.pop = 1\n",
        "      # 避難者エージェントが目指す避難所番号をセット\n",
        "      a.evac_no = eva_no[i]\n",
        "      # 高齢者エージェントと通常エージェントでスタート時刻を変える\n",
        "      # a.start_move = start_move[i]\n",
        "      # a.start_move = start_move[i] + random.randrange(1, 100)\n",
        "      a.start_move = random.randrange(1, 20)\n",
        "\n",
        "      # 避難者エージェントをスケジューラーに登録\n",
        "      self.schedule.add(a)\n",
        "      # 避難者エージェントを配置する\n",
        "      # 座標はintにキャストする\n",
        "      self.grid.place_agent(a, (int(start_x[i]), int(start_y[i])))\n",
        "\n",
        "      # データコレクターの設定\n",
        "      self.datacollector = DataCollector(\n",
        "        model_reporters = {\"Goal\": compute_goal, \"evacuator\": goal_pop, \"pop_sum\": pop_sum},\n",
        "        agent_reporters = {\"Pos\": \"pos\", \"Goal\": \"mygoal\", \"Strategy\": \"strategy\",\\\n",
        "                            \"Behavior\": \"behavior\", \"Pop\": \"pop\", \"Evac_no\": \"evac_no\", \"start_move\": \"start_move\"})\n",
        "\n",
        "    # 避難者エージェント配置直後（初期状態）の状況をデータコレクターで取得\n",
        "    self.datacollector.collect(self)\n",
        "\n",
        "    # 壁エージェントを配置する\n",
        "    # 壁の配列から座標を取得する\n",
        "    wall_y = np.where(self.wall > 0)[0]\n",
        "    wall_x = np.where(self.wall > 0)[1]\n",
        "    # 取得した壁の座標に壁エージェントを配置する\n",
        "    for i in range(len(wall_x)):\n",
        "      a = WallAgent(i, self)\n",
        "      self.grid.place_agent(a, (int(wall_x[i]), int(wall_y[i])))\n",
        "      # 描画用に壁の座標を保持する\n",
        "      self.wall_x.append(int(wall_x[i]))\n",
        "      self.wall_y.append(int(wall_y[i]))\n",
        "\n",
        "    # ゴール地点の座標を取得する\n",
        "    goal_x = ((goal_location.geometry.x - ULX) // Xsize).to_list()\n",
        "    goal_y = ((goal_location.geometry.y - ULY) // Ysize).to_list()\n",
        "\n",
        "    # ゴールエージェントの配置\n",
        "    for i in range(len(goal_x)):\n",
        "      a = GoalAgent(i, self)\n",
        "      self.grid.place_agent(a, (int(goal_x[i]), int(goal_y[i])))\n",
        "      # 描画用にゴールの座標を保持する\n",
        "      self.goal_x.append(int(goal_x[i]))\n",
        "      self.goal_y.append(int(goal_y[i]))\n",
        "\n",
        "  def step(self):\n",
        "    model.evac_comp = 0\n",
        "    self.schedule.step()\n",
        "    self.datacollector.collect(self)\n",
        "\n",
        "# そのステップでゴールした人数を求める関数\n",
        "def goal_pop(model):\n",
        "  return(model.evac_comp)\n",
        "\n",
        "# ゴールしたエージェントの累計を求める関数\n",
        "def compute_goal(model):\n",
        "  agent_goal = sum([agent.mygoal for agent in model.schedule.agents])\n",
        "  return (agent_goal)\n",
        "\n",
        "# ゴールした人数の実際の累計を求める関数\n",
        "def pop_sum(model):\n",
        "  pop_sum = sum([agent.pop for agent in model.schedule.agents if agent.mygoal == 1])\n",
        "  return (pop_sum)\n",
        "\n",
        "# 二つのエージェントの距離を求める関数\n",
        "def calc_dist(loc1, loc2):\n",
        "  return np.sqrt(np.sum(np.square(np.array(loc1)-np.array(loc2))))\n",
        "\n",
        "# 避難者エージェントの定義\n",
        "class EvacAgent(Agent):\n",
        "\n",
        "  def __init__(self, unique_id, model):\n",
        "    super().__init__(unique_id, model)\n",
        "    self.mygoal = 0\n",
        "    self.wealth = 0\n",
        "    self.category = 'evacagent'\n",
        "\n",
        "#    self.strategy = random.randrange(1, 5)\n",
        "#    self.strategy = random.randrange(5, 10)\n",
        "\n",
        "    # エージェントの避難ルール\n",
        "    # behaviorは避難行動のパターン．1の場合は最寄りゴールに向かう．0の場合は道路コストに従って移動する\n",
        "    # start_moveは避難を開始するステップ数\n",
        "    # strategyはエージェントがゴールを探す半径\n",
        "\n",
        "    # 1. 全員が最寄りゴールに向かう．同時に避難開始\n",
        "    # self.strategy = 100\n",
        "    # self.start_move = 1\n",
        "    # self.behavior = 1\n",
        "\n",
        "    # 2. 全員が道路コストに従ってゴールに向かう．同時に避難開始\n",
        "    self.strategy = 100\n",
        "    # self.start_move = 1\n",
        "    # self.start_move += random.randrange(1, 10)\n",
        "    self.behavior = 0\n",
        "\n",
        "    # 3. 避難開始のステップ数をランダムに決定\n",
        "    # 避難行動のパターンもランダムに決定\n",
        "    # self.strategy = 100\n",
        "    # self.behavior = random.randrange(2)\n",
        "    # self.start_move = random.randrange(1, 50)\n",
        "\n",
        "  # エージェントの移（最寄りのゴールに向かって移動する）\n",
        "  def move(self):\n",
        "    # 自分の周囲のセル（4方向）にあるセルを検索する．\n",
        "    possible_steps = list(self.model.grid.get_neighborhood(self.pos, moore = True, include_center = False))\n",
        "    # その中で移動可能（エージェントがいない（エージェントの数が1未満））なセルを検索する\n",
        "    possible_steps2 = [a for a in possible_steps if (len(self.model.grid.get_cell_list_contents(a)) < 1)]\n",
        "    # 周囲8方向のセルにゴールが含まれている場合は移動可能なセルにゴールのセルを加える．\n",
        "    possible_steps2.extend([a.pos for a in self.model.grid.get_neighbors(self.pos, moore = True, include_center = False) if a.category == 'goal'])\n",
        "    possible_steps3 = []\n",
        "    # 自分を中心とする検索範囲（半径strategy）のエージェントを検索する\n",
        "    neighbor_agents = self.model.grid.get_neighbors(self.pos, moore = True, radius = self.strategy, include_center = False)\n",
        "    # 検索範囲にゴールがあるかどうか判定する\n",
        "    if 'goal' in [a.category for a in neighbor_agents]: # ゴールがあった場合\n",
        "      # 見えているゴールエージェントを取得する\n",
        "      goal_list = [a for a in neighbor_agents if a.category == 'goal']\n",
        "      # 見えているすべてのゴールエージェントまでの距離を求める\n",
        "      goal_dists = [calc_dist(a.pos, self.pos) for a in goal_list]\n",
        "      # 最寄りゴールを検索する\n",
        "      goal_nn = goal_list[goal_dists.index(min(goal_dists))]\n",
        "      # 最寄りゴールの座標を取得する\n",
        "      # エージェントは最寄りゴールを目指す\n",
        "      goalpos = [goal_nn.pos]\n",
        "      # 自分とゴールの距離を求める\n",
        "      self_goal_dis = calc_dist(goalpos, self.pos)\n",
        "      # エージェントがいないセルからゴールまでの距離を求める\n",
        "      distances = [calc_dist(goalpos, a) for a in possible_steps2]\n",
        "      # 自分の現在位置よりゴールに近くなる移動候補のみを取り出す\n",
        "      possible_steps3 = [a for a, b in zip(possible_steps2, distances) if b < self_goal_dis]\n",
        "    if len(possible_steps3) > 0: # ゴールに近づくセルに移動\n",
        "      new_position = self.random.choice(possible_steps3)\n",
        "    elif len(possible_steps2) > 0: # エージェントのいないセルに移動\n",
        "      new_position = self.random.choice(possible_steps2)\n",
        "    else: # 動ける場所がない場合は移動しない\n",
        "      new_position = self.pos\n",
        "    # 自分を中心とする検索範囲（半径strategy）のエージェントを検索する\n",
        "    neighbor_agents = self.model.grid.get_neighbors(self.pos, moore = True, radius = 2, include_center = False)\n",
        "    # 検索範囲に他の避難者エージェントがいるかどうか判定する\n",
        "    if 0 in [a.behavior for a in neighbor_agents if a.category == 'evacagent']: # behavior=0の避難者エージェントがいた場合\n",
        "      self.behavior = 0\n",
        "    self.model.grid.move_agent(self, new_position)\n",
        "\n",
        "  # エージェントの移動（道路のコストに沿って移動する）\n",
        "  def move_cost(self):\n",
        "    # 自分の周囲のセル（8方向）にあるセルを検索する．\n",
        "    possible_steps = list(self.model.grid.get_neighborhood(self.pos, moore = True, include_center = False))\n",
        "    # その中で移動可能（エージェントがいない（エージェントの数が1未満））なセルを検索する\n",
        "    possible_steps2 = [a for a in possible_steps if (len(self.model.grid.get_cell_list_contents(a)) < 1)]\n",
        "    # 周囲8方向のセルにゴールが含まれている場合は移動可能なセルにゴールのセルを加える．\n",
        "    possible_steps2.extend([a.pos for a in self.model.grid.get_neighbors(self.pos, moore = True, include_center = False) if a.category == 'goal'])\n",
        "    # 移動可能なセルがない場合は動かない\n",
        "    if len(possible_steps2) == 0:\n",
        "      new_position = self.pos\n",
        "    else:\n",
        "      # 移動可能なセルが複数ある場合にはコスト最小になるセルに移動する\n",
        "      # コストはそのエージェントが目指すゴール（self.evac_no）への加重コストになる\n",
        "      costs = [self.model.cost[self.evac_no][b][a] for a, b in possible_steps2]\n",
        "      new_position = possible_steps2[costs.index(min(costs))]\n",
        "    self.model.grid.move_agent(self, new_position)\n",
        "\n",
        "  # ゴールに到達したか判定する関数\n",
        "  def if_goal(self):\n",
        "    # if self.pos == self.model.goal:\n",
        "    # 自分のいる場所のエージェントを取得し，その中にgoalがあるか判定する．\n",
        "    # if 'goal' in [a.category for a in self.model.grid.get_cell_list_contents(self.pos)]:\n",
        "    # 自分の周囲8点のエージェントを取得し，その中にgoalがあるか判定する．\n",
        "    if 'goal' in [a.category for a in self.model.grid.get_neighbors(self.pos, moore = True, include_center = True)]:\n",
        "      self.mygoal += 1\n",
        "      self.model.evac_comp += 1\n",
        "      # ゴールしたらエージェントを削除する\n",
        "      self.model.grid.remove_agent(self)\n",
        "\n",
        "  def step(self):\n",
        "    if self.start_move == 0:\n",
        "      if self.mygoal == 0:\n",
        "        if self.behavior == 1:\n",
        "          self.move()\n",
        "        else:\n",
        "          self.move_cost()\n",
        "        self.if_goal()\n",
        "    else:\n",
        "      self.start_move -= 1\n",
        "\n",
        "# ゴールエージェントの定義\n",
        "class GoalAgent(Agent):\n",
        "\n",
        "  def __init__(self, unique_id, model):\n",
        "    super().__init__(unique_id, model)\n",
        "    # エージェントの種類を示すプロパティを追加\n",
        "    self.category = 'goal'\n",
        "\n",
        "# 壁エージェントの定義\n",
        "class WallAgent(Agent):\n",
        "\n",
        "  def __init__(self, unique_id, model):\n",
        "    super().__init__(unique_id, model)\n",
        "    self.category = 'wall'\n",
        "\n"
      ]
    },
    {
      "cell_type": "markdown",
      "metadata": {
        "id": "6Y6WWZCUZ2hi"
      },
      "source": [
        "# モデルの実行"
      ]
    },
    {
      "cell_type": "code",
      "execution_count": null,
      "metadata": {
        "id": "VS2jx3Y5Z2hi"
      },
      "outputs": [],
      "source": [
        "# 実行するステップ数を指定する\n",
        "# テストなら200ステップくらいが妥当か\n",
        "\n",
        "runstep = 200\n",
        "\n",
        "# 保存するGeoPackage，datacollectorとアニメーションのファイル名を指定する\n",
        "outfilename = \"test_200\"\n",
        "\n",
        "model = EvacModel(wall.shape[1], wall.shape[0], start_location, goal_location, wall, cost)\n",
        "\n",
        "# 決まったステップだけ実行\n",
        "for i in tqdm(range(runstep)):\n",
        "  model.step()\n",
        "\n"
      ]
    },
    {
      "cell_type": "markdown",
      "metadata": {
        "id": "TMqyqpGYgE5j"
      },
      "source": [
        "# 計算結果をQGISやArcGISで直接読み込めるGeoPackage型式で保存する"
      ]
    },
    {
      "cell_type": "code",
      "execution_count": null,
      "metadata": {
        "id": "ibZFk1BmZ2hj"
      },
      "outputs": [],
      "source": [
        "# 避難者エージェントの実座標を計算しGeoDataFrameにする\n",
        "# データコレクターからすべてのステップにおける避難者エージェントの位置（Pos）を取得する\n",
        "agent_loc = model.datacollector.get_agent_vars_dataframe()['Pos'].map(lambda x: (0, 0) if x is None else x)\n",
        "# agent_loc = model.datacollector.get_agent_vars_dataframe()['Pos']\n",
        "# 取得したPosをxとyに分解する\n",
        "x, y = [a for a, b in agent_loc], [b for a, b in agent_loc]\n",
        "# xとyを実座標（xcoordとycoord）に変換する\n",
        "xcoord = [ULX + (x * Xsize) for x in x]\n",
        "ycoord = [ULY + (y * Ysize) for y in y]\n",
        "# 実座標をGeoDatqaFrameのgeometryに変換する\n",
        "# CRSはstart_locationと同じものにする\n",
        "agent_geometry = gpd.points_from_xy(xcoord, ycoord, crs = start_location.crs)\n",
        "\n",
        "# データコレクターに実座標（agent_geometry）を付与する\n",
        "agent_vars = gpd.GeoDataFrame(model.datacollector.get_agent_vars_dataframe(), geometry = agent_geometry)\n",
        "\n",
        "# Object型であるPosをstrにキャストする．これをやらないとgpkgで保存できない\n",
        "agent_vars[['Pos']] = agent_vars[['Pos']].astype('str')\n",
        "\n",
        "# タイムステップを実時間に変換する\n",
        "# タイムステップを取得\n",
        "stp = agent_vars.reset_index()[\"Step\"]\n",
        "# 基準時刻（2020/1/1 0:0:0）にタイムステップ*5秒を掛けたものを加えてDateTimeにする\n",
        "agent_vars[\"Time\"] = [(datetime(2020, 1, 1, 0, 0, 0) + timedelta(seconds = (a *5)))  for a in stp]\n",
        "\n",
        "# データコレクターなどをファイルに保存する\n",
        "agent_vars.reset_index().to_file(base_dir + outfilename + '_agent_vars.gpkg', layer = 'agent_vars', driver = 'GPKG')\n",
        "#agent_vars.reset_index().to_csv(base_dir + outfilename + '_agent_vars.csv')\n",
        "model.datacollector.get_model_vars_dataframe().to_csv(base_dir + outfilename + '_model_vars.csv')\n"
      ]
    },
    {
      "cell_type": "markdown",
      "metadata": {
        "id": "ObgPD7bvZ2hj"
      },
      "source": [
        "# アニメーション作成（エージェントや計算ステップ数が多いとかなり時間がかかる）"
      ]
    },
    {
      "cell_type": "code",
      "execution_count": 71,
      "metadata": {
        "id": "-vQ97v6cZ2hj"
      },
      "outputs": [
        {
          "name": "stderr",
          "output_type": "stream",
          "text": [
            "100%|██████████| 499/499 [06:17<00:00,  1.32it/s]\n"
          ]
        },
        {
          "data": {
            "image/png": "[encoded data removed]",
            "text/plain": [
              "<Figure size 1000x1000 with 1 Axes>"
            ]
          },
          "metadata": {},
          "output_type": "display_data"
        }
      ],
      "source": [
        "# 計算結果のアニメーションを作成する\n",
        "fig = plt.figure(figsize = (10, 10))\n",
        "ax = fig.add_subplot(111)\n",
        "\n",
        "# ゴールをプロット\n",
        "for i in range(len(model.goal_x)):\n",
        "    plt.text(model.goal_x[i], model.goal_y[i], 'Goal', size = 14, ha = 'center')\n",
        "plt.scatter(model.goal_x, model.goal_y, color = 'blue', s = 150, marker = \"s\")\n",
        "\n",
        "# imshowを使って壁配列を描画する．\n",
        "plt.imshow(wall)\n",
        "\n",
        "ims = []\n",
        "step = 1\n",
        "\n",
        "# 0 Stepめのエージェントの座標を取得する\n",
        "agent_loc = model.datacollector.get_agent_vars_dataframe().xs(0, level = 'Step')['Pos'].map(lambda x: (0, 0) if x is None else x)\n",
        "x0, y0 = [a for a, b in agent_loc], [b for a, b in agent_loc]\n",
        "\n",
        "# 指定ステップまでアニメーションを作成する\n",
        "for i in tqdm(range(1, runstep)):\n",
        "\n",
        "  agent_loc = model.datacollector.get_agent_vars_dataframe().xs(i, level = 'Step')['Pos'].map(lambda x: (0, 0) if x is None else x)\n",
        "  x, y = [a for a, b in agent_loc], [b for a, b in agent_loc]\n",
        "  dx = (np.array(x) - np.array(x0)) / step\n",
        "  dy = (np.array(y) - np.array(y0)) / step\n",
        "  #データコレクターからプロパティstrategyのリストを取得\n",
        "  behavior = model.datacollector.get_agent_vars_dataframe().xs(i, level='Step')['Behavior'].map(lambda x: (0, 0) if x is None else x)\n",
        "  evac_no = model.datacollector.get_agent_vars_dataframe().xs(i, level='Step')['Evac_no'].map(lambda x: (0, 0) if x is None else x)\n",
        "  start_move = model.datacollector.get_agent_vars_dataframe().xs(i, level='Step')['start_move'].map(lambda x: (0, 0) if x is None else x)\n",
        "\n",
        "  for u in range(step):\n",
        "    # cパラメータにstrategyを指定して避難エージェントの色を変える\n",
        "    # im = ax.scatter(x0 + (dx * u), y0 + (dy * u), s = 20, c = evac_no, cmap = cm.seismic, marker = \"*\")\n",
        "    im = ax.scatter(x0 + (dx * u), y0 + (dy * u), s = 20, c = start_move, cmap = cm.seismic, marker = \"*\")\n",
        "    # グラフのタイトル作成\n",
        "    pop_sum = int(model.datacollector.get_model_vars_dataframe().xs(i)['pop_sum'])\n",
        "    im_title = ax.text(100, -3, f\"elapsed step {i:03d}, elapsed time (MM:SS) ({int((i*6)/60):02d}:{(i*6)%60:02d}) Pop_sum {pop_sum:05d}\", size = 'large')\n",
        "    # グラフをリストに加える\n",
        "    ims.append([im, im_title])\n",
        "  x0 = x\n",
        "  y0 = y\n",
        "\n",
        "#ax.set_title('evacuation')\n",
        "ax.set_xlabel('x')\n",
        "ax.set_ylabel('y')\n",
        "\n",
        "# ArtistAnimationにfigオブジェクトとimsを代入してアニメーションを作成\n",
        "anim = animation.ArtistAnimation(fig, ims, interval = 50, blit = True)\n",
        "\n",
        "# Google Colaboratoryの場合必要\n",
        "rc('animation', html='jshtml')\n",
        "#plt.close()\n",
        "#anim\n",
        "\n",
        "anim.save(base_dir + outfilename + '.mp4')"
      ]
    },
    {
      "cell_type": "markdown",
      "metadata": {
        "id": "0wCvgYJCIMZJ"
      },
      "source": [
        "# ゴール過程のグラフ化"
      ]
    },
    {
      "cell_type": "code",
      "execution_count": null,
      "metadata": {
        "id": "Mj_Q9IGuXnD0"
      },
      "outputs": [],
      "source": [
        "%matplotlib inline\n",
        "\n",
        "fig = plt.figure()\n",
        "ax = fig.add_subplot(111)\n",
        "\n",
        "goal = model.datacollector.get_model_vars_dataframe()\n",
        "\n",
        "ax.plot(goal)\n",
        "plt.show"
      ]
    }
  ],
  "metadata": {
    "colab": {
      "include_colab_link": true,
      "provenance": []
    },
    "kernelspec": {
      "display_name": "Python 3 (ipykernel)",
      "language": "python",
      "name": "python3"
    },
    "language_info": {
      "codemirror_mode": {
        "name": "ipython",
        "version": 3
      },
      "file_extension": ".py",
      "mimetype": "text/x-python",
      "name": "python",
      "nbconvert_exporter": "python",
      "pygments_lexer": "ipython3",
      "version": "3.11.4"
    },
    "vscode": {
      "interpreter": {
        "hash": "04239d3765ed535dcc43fe8f687793153980cab81ff317068429b7e18b23e309"
      }
    }
  },
  "nbformat": 4,
  "nbformat_minor": 0
}
